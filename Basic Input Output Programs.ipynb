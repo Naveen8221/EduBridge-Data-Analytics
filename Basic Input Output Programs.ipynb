{
 "cells": [
  {
   "cell_type": "markdown",
   "id": "8c52fc8e",
   "metadata": {},
   "source": [
    "## 1. Write a program to print yourself introduction."
   ]
  },
  {
   "cell_type": "code",
   "execution_count": 1,
   "id": "1ad23c93",
   "metadata": {},
   "outputs": [
    {
     "name": "stdout",
     "output_type": "stream",
     "text": [
      "Enter the name : Naveen\n",
      "Enter the age : 21\n",
      "Enter the qualification : B.tech\n",
      "Enter the current working : Data-Analytics\n",
      "My name is Naveen and am 21 years old and am a B.tech graduated. Now, i am doing Data-Analytics Course last 3 month.\n"
     ]
    }
   ],
   "source": [
    "Name = input(\"Enter the name : \")\n",
    "Age = int(input(\"Enter the age : \"))\n",
    "Education = input(\"Enter the qualification : \")\n",
    "Working = input(\"Enter the current working : \")\n",
    "print(\"My name is\",Name,\"and am\",Age,\"years old\",\"and am a\",Education,\"graduated. Now, i am doing\",Working,\"Course last 3 month.\")"
   ]
  },
  {
   "cell_type": "markdown",
   "id": "20547985",
   "metadata": {},
   "source": [
    "## 2. Write a program to perform the following operations:\n",
    " - Addition\n",
    " - Subtraction\n",
    " - Multiplication\n",
    " - Division\n",
    " - Modulus\n",
    " - Exponent"
   ]
  },
  {
   "cell_type": "code",
   "execution_count": 2,
   "id": "4978a717",
   "metadata": {},
   "outputs": [
    {
     "name": "stdout",
     "output_type": "stream",
     "text": [
      "Enter the num1 value : 4\n",
      "Enter the num2 value : 6\n",
      "Sum of two numbers is : 10\n",
      "Difference of two numbers is : -2\n",
      "Multiplication of two numbers is : 24\n",
      "Division of two numbers is : 0.6666666666666666\n",
      "Modulus of two numbers is : 4\n",
      "Exponent of two numbers is : 4096\n"
     ]
    }
   ],
   "source": [
    "num1=int(input(\"Enter the num1 value : \"))\n",
    "num2=int(input(\"Enter the num2 value : \"))\n",
    "Addition=num1+num2\n",
    "Subtraction=num1-num2\n",
    "Multiplication=num1*num2\n",
    "Division=num1/num2\n",
    "Mod=num1%num2\n",
    "Expo=num1**num2\n",
    "print(\"Sum of two numbers is :\",Addition)\n",
    "print(\"Difference of two numbers is :\",Subtraction)\n",
    "print(\"Multiplication of two numbers is :\",Multiplication)\n",
    "print(\"Division of two numbers is :\",Division)\n",
    "print(\"Modulus of two numbers is :\",Mod)\n",
    "print(\"Exponent of two numbers is :\",Expo)"
   ]
  },
  {
   "cell_type": "markdown",
   "id": "b8567d20",
   "metadata": {},
   "source": [
    "## 3. Write a program to swap two numbers."
   ]
  },
  {
   "cell_type": "code",
   "execution_count": 3,
   "id": "eed7fd9c",
   "metadata": {},
   "outputs": [
    {
     "name": "stdout",
     "output_type": "stream",
     "text": [
      "Enter the num1 value : 6\n",
      "Enter the num2 value : 5\n",
      "=======================\n",
      "=======================\n",
      "We assume that a number is num3 and its equal to num1 value\n",
      "=======================\n",
      "num1 value is assin to the num2 value\n",
      "=======================\n",
      "num2 value is assin to the num3 value\n",
      "=======================\n",
      "Swap value of num1 :  5\n",
      "Swap value of num2 :  6\n"
     ]
    }
   ],
   "source": [
    "num1=int(input(\"Enter the num1 value : \"))\n",
    "num2=int(input(\"Enter the num2 value : \"))\n",
    "print(\"=======================\")\n",
    "print(\"=======================\")\n",
    "print(\"We assume that a number is num3 and its equal to num1 value\")\n",
    "num3=num1\n",
    "print(\"=======================\")\n",
    "print(\"num1 value is assin to the num2 value\")\n",
    "num1=num2\n",
    "print(\"=======================\")\n",
    "print(\"num2 value is assin to the num3 value\")\n",
    "num2=num3\n",
    "print(\"=======================\")\n",
    "print(\"Swap value of num1 : \",num1)\n",
    "print(\"Swap value of num2 : \",num2)"
   ]
  },
  {
   "cell_type": "markdown",
   "id": "55aaaa86",
   "metadata": {},
   "source": [
    "## 4. Write a program Swap two number without third variable."
   ]
  },
  {
   "cell_type": "code",
   "execution_count": 4,
   "id": "281dd426",
   "metadata": {},
   "outputs": [
    {
     "name": "stdout",
     "output_type": "stream",
     "text": [
      "Enter the num1 value : 9\n",
      "Enter the num2 value : 6\n",
      "=======================\n",
      "=======================\n",
      "Swap value of num1 :  6\n",
      "Swap value of num2 :  9\n"
     ]
    }
   ],
   "source": [
    "num1=int(input(\"Enter the num1 value : \"))\n",
    "num2=int(input(\"Enter the num2 value : \"))\n",
    "print(\"=======================\")\n",
    "num1,num2=num2,num1\n",
    "print(\"=======================\")\n",
    "print(\"Swap value of num1 : \",num1)\n",
    "print(\"Swap value of num2 : \",num2)"
   ]
  },
  {
   "cell_type": "markdown",
   "id": "ad78d9ba",
   "metadata": {},
   "source": [
    "## 5. Write a program Compute simple interest."
   ]
  },
  {
   "cell_type": "code",
   "execution_count": 5,
   "id": "95a82674",
   "metadata": {},
   "outputs": [
    {
     "name": "stdout",
     "output_type": "stream",
     "text": [
      "Enter the P value : 1500\n",
      "Enter the R value : 10\n",
      "Enter the T value : 6\n",
      "=======================\n",
      "P is Principal amount\n",
      "R is interest rate\n",
      "T is  time\n",
      "=======================\n",
      "Simple intere is :  900.0\n"
     ]
    }
   ],
   "source": [
    "P=int(input(\"Enter the P value : \"))\n",
    "R=int(input(\"Enter the R value : \"))\n",
    "T=int(input(\"Enter the T value : \"))\n",
    "print(\"=======================\")\n",
    "print(\"\"\"P is Principal amount\n",
    "R is interest rate\n",
    "T is  time\"\"\")\n",
    "print(\"=======================\")\n",
    "SI=(P*R*T)/100\n",
    "print(\"Simple intere is : \",SI)"
   ]
  },
  {
   "cell_type": "markdown",
   "id": "58a3f183",
   "metadata": {},
   "source": [
    "## 6. Write a program Average of five number."
   ]
  },
  {
   "cell_type": "code",
   "execution_count": 6,
   "id": "f0ef7a33",
   "metadata": {},
   "outputs": [
    {
     "name": "stdout",
     "output_type": "stream",
     "text": [
      "Enter the num1 value : 9\n",
      "Enter the num2 value : 5\n",
      "Enter the num3 value : 6\n",
      "Enter the num4 value : 9\n",
      "Enter the num5 value : 6\n",
      "Average of 5 numbers :  7.0\n"
     ]
    }
   ],
   "source": [
    "num1 = int(input(\"Enter the num1 value : \"))\n",
    "num2 = int(input(\"Enter the num2 value : \"))\n",
    "num3 = int(input(\"Enter the num3 value : \"))\n",
    "num4 = int(input(\"Enter the num4 value : \"))\n",
    "num5 = int(input(\"Enter the num5 value : \"))\n",
    "average=(num1+num2+num3+num4+num5)/5\n",
    "print(\"Average of 5 numbers : \",average)"
   ]
  },
  {
   "cell_type": "markdown",
   "id": "5d25c8aa",
   "metadata": {},
   "source": [
    "## 7. Write a program Discriminant of a quadratic equation."
   ]
  },
  {
   "cell_type": "code",
   "execution_count": 8,
   "id": "14435c27",
   "metadata": {},
   "outputs": [
    {
     "name": "stdout",
     "output_type": "stream",
     "text": [
      "Enter the a value : 45\n",
      "Enter the b value : 32\n",
      "Enter the c value : 15\n",
      "Discriminant value is :  -1676\n"
     ]
    }
   ],
   "source": [
    "a=int(input(\"Enter the a value : \"))\n",
    "b=int(input(\"Enter the b value : \"))\n",
    "c=int(input(\"Enter the c value : \"))\n",
    "discriminant=(b**2)-4*a*c\n",
    "print(\"Discriminant value is : \",discriminant)"
   ]
  },
  {
   "cell_type": "markdown",
   "id": "33f3d9f1",
   "metadata": {},
   "source": [
    "## 8. Write a program Calculate the areas of following shapes:\n",
    " - Rectangle\n",
    " - Square\n",
    " - Triangle\n",
    " - Circle"
   ]
  },
  {
   "cell_type": "code",
   "execution_count": 10,
   "id": "2e1d5676",
   "metadata": {},
   "outputs": [
    {
     "name": "stdout",
     "output_type": "stream",
     "text": [
      "Choose the area which  calculate :\n",
      "1. Rectangle\n",
      "2. Square\n",
      "3. Triangle\n",
      "4. Circle\n",
      "Select the number : 1\n",
      "=========================\n",
      "Enter the height : 25\n",
      "Enter the width : 23\n",
      "Area of rectangle is :  575\n",
      "=========================\n"
     ]
    }
   ],
   "source": [
    "Choose=int(input(\"\"\"Choose the area which  calculate :\n",
    "1. Rectangle\n",
    "2. Square\n",
    "3. Triangle\n",
    "4. Circle\n",
    "Select the number : \"\"\"))\n",
    "if 1==Choose:\n",
    "    print(\"=========================\")\n",
    "    h=int(input(\"Enter the height : \"))\n",
    "    w=int(input(\"Enter the width : \"))\n",
    "    area=h*w\n",
    "    print(\"Area of rectangle is : \",area)\n",
    "    print(\"=========================\")\n",
    "\n",
    "elif 2==Choose:\n",
    "    print(\"=========================\")\n",
    "    a=int(input(\"Enter the length of side : \"))\n",
    "    area=a**2\n",
    "    print(\"Area of Square is : \",area)\n",
    "    print(\"=========================\")\n",
    "    \n",
    "elif 3==Choose:\n",
    "    print(\"=========================\")\n",
    "    b=int(input(\"Enter the base : \"))\n",
    "    h-int(input(\"Enter the height : \"))\n",
    "    area=(1/2)*b*h\n",
    "    print(\"Area of Triangle is : \",area)\n",
    "    print(\"=========================\")\n",
    "\n",
    "elif 4==Choose:\n",
    "    print(\"=========================\")\n",
    "    r=int(input(\"Enter the radius : \"))\n",
    "    area=(3.14)*(r**2)\n",
    "    print(\"Area of Circle is : \",area)\n",
    "    print(\"=========================\")\n",
    "    \n",
    "else:\n",
    "    print(\"Operation is not performed\")"
   ]
  },
  {
   "cell_type": "markdown",
   "id": "3a4bf8e4",
   "metadata": {},
   "source": [
    "## 9. Write a program to Calculate Net salary of an employee whose basic salary is entered by the user,DA is 5% of basic salary , HRA is 7% of basic salary and PF is 3% Basic Salary."
   ]
  },
  {
   "cell_type": "code",
   "execution_count": 11,
   "id": "5b13c346",
   "metadata": {},
   "outputs": [
    {
     "name": "stdout",
     "output_type": "stream",
     "text": [
      "Enter the basic salary of employee : 25000\n",
      "=========================\n",
      "=========================\n",
      "DA = Dearness Allowance \n",
      "HRA = House rent allowance \n",
      "PF = Provident fund\n",
      "=========================\n",
      "=========================\n",
      "Net salary of employee is :  3750.0\n"
     ]
    }
   ],
   "source": [
    "basic=int(input(\"Enter the basic salary of employee : \"))\n",
    "print(\"=========================\")\n",
    "print(\"=========================\")\n",
    "print(\"DA = Dearness Allowance \")\n",
    "DA=basic*0.05\n",
    "print(\"HRA = House rent allowance \")\n",
    "HRA=basic*0.07\n",
    "print(\"PF = Provident fund\")\n",
    "PF=basic*0.03\n",
    "print(\"=========================\")\n",
    "print(\"=========================\")\n",
    "net=DA+HRA+PF\n",
    "print(\"Net salary of employee is : \",net)"
   ]
  },
  {
   "cell_type": "markdown",
   "id": "ea569327",
   "metadata": {},
   "source": [
    "## 10. Write a program Calculate power of number."
   ]
  },
  {
   "cell_type": "code",
   "execution_count": 12,
   "id": "86cf11e0",
   "metadata": {},
   "outputs": [
    {
     "name": "stdout",
     "output_type": "stream",
     "text": [
      "Enter the num value : 6\n",
      "Power of a number is :  36\n"
     ]
    }
   ],
   "source": [
    "num=int(input(\"Enter the num value : \"))\n",
    "cal=num**2\n",
    "print(\"Power of a number is : \",cal)\n"
   ]
  },
  {
   "cell_type": "markdown",
   "id": "72753074",
   "metadata": {},
   "source": [
    "## 11. Write a program to get Python Version."
   ]
  },
  {
   "cell_type": "code",
   "execution_count": 13,
   "id": "8e6f680a",
   "metadata": {},
   "outputs": [
    {
     "name": "stdout",
     "output_type": "stream",
     "text": [
      "Python version which i'm using is :  3.9.12\n"
     ]
    }
   ],
   "source": [
    "from platform import python_version\n",
    "print(\"Python version which i'm using is : \",python_version())"
   ]
  }
 ],
 "metadata": {
  "kernelspec": {
   "display_name": "Python 3 (ipykernel)",
   "language": "python",
   "name": "python3"
  },
  "language_info": {
   "codemirror_mode": {
    "name": "ipython",
    "version": 3
   },
   "file_extension": ".py",
   "mimetype": "text/x-python",
   "name": "python",
   "nbconvert_exporter": "python",
   "pygments_lexer": "ipython3",
   "version": "3.9.12"
  }
 },
 "nbformat": 4,
 "nbformat_minor": 5
}
