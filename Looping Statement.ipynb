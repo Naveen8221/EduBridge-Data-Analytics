{
 "cells": [
  {
   "cell_type": "markdown",
   "id": "3c8590d3",
   "metadata": {},
   "source": [
    "## 1. Write a program to print \"Hello Python\" ten times."
   ]
  },
  {
   "cell_type": "code",
   "execution_count": 6,
   "id": "e72f49fb",
   "metadata": {},
   "outputs": [
    {
     "name": "stdout",
     "output_type": "stream",
     "text": [
      "Print 1 times : Hello Pyhton\n",
      "Print 2 times : Hello Pyhton\n",
      "Print 3 times : Hello Pyhton\n",
      "Print 4 times : Hello Pyhton\n",
      "Print 5 times : Hello Pyhton\n",
      "Print 6 times : Hello Pyhton\n",
      "Print 7 times : Hello Pyhton\n",
      "Print 8 times : Hello Pyhton\n",
      "Print 9 times : Hello Pyhton\n",
      "Print 10 times : Hello Pyhton\n"
     ]
    }
   ],
   "source": [
    "i=1\n",
    "while i<=10:\n",
    "    print(\"Print\",i,\"times : \"\"Hello Pyhton\")\n",
    "    i+=1"
   ]
  },
  {
   "cell_type": "markdown",
   "id": "3ae795f4",
   "metadata": {},
   "source": [
    "## 2. Write a program to print number from 1 to 10."
   ]
  },
  {
   "cell_type": "code",
   "execution_count": 7,
   "id": "7f6baab1",
   "metadata": {},
   "outputs": [
    {
     "name": "stdout",
     "output_type": "stream",
     "text": [
      "The count is :  1\n",
      "The count is :  2\n",
      "The count is :  3\n",
      "The count is :  4\n",
      "The count is :  5\n",
      "The count is :  6\n",
      "The count is :  7\n",
      "The count is :  8\n",
      "The count is :  9\n",
      "The count is :  10\n"
     ]
    }
   ],
   "source": [
    "i=1\n",
    "while i <=10:\n",
    "    print(\"The count is : \",i)\n",
    "    i+=1"
   ]
  },
  {
   "cell_type": "markdown",
   "id": "71d24ec2",
   "metadata": {},
   "source": [
    "## 3. Write a program to print sum of first ten number."
   ]
  },
  {
   "cell_type": "code",
   "execution_count": 4,
   "id": "7b49d4a4",
   "metadata": {},
   "outputs": [
    {
     "name": "stdout",
     "output_type": "stream",
     "text": [
      "Sum of the first ten number is :  55\n"
     ]
    }
   ],
   "source": [
    "i=1\n",
    "sum=0\n",
    "while i<=10:\n",
    "    sum=sum+i\n",
    "    i+=1\n",
    "print(\"Sum of the first ten number is : \",sum)    "
   ]
  },
  {
   "cell_type": "markdown",
   "id": "e2ac712f",
   "metadata": {},
   "source": [
    "## 4. Write a program to print n number entered by the user."
   ]
  },
  {
   "cell_type": "code",
   "execution_count": 8,
   "id": "ae15dcb9",
   "metadata": {},
   "outputs": [
    {
     "name": "stdout",
     "output_type": "stream",
     "text": [
      "Enter the number : 25\n",
      "The count is :  1\n",
      "The count is :  2\n",
      "The count is :  3\n",
      "The count is :  4\n",
      "The count is :  5\n",
      "The count is :  6\n",
      "The count is :  7\n",
      "The count is :  8\n",
      "The count is :  9\n",
      "The count is :  10\n",
      "The count is :  11\n",
      "The count is :  12\n",
      "The count is :  13\n",
      "The count is :  14\n",
      "The count is :  15\n",
      "The count is :  16\n",
      "The count is :  17\n",
      "The count is :  18\n",
      "The count is :  19\n",
      "The count is :  20\n",
      "The count is :  21\n",
      "The count is :  22\n",
      "The count is :  23\n",
      "The count is :  24\n",
      "The count is :  25\n"
     ]
    }
   ],
   "source": [
    "n=int(input(\"Enter the number : \"))\n",
    "i=1\n",
    "while i<=n:\n",
    "    print(\"The count is : \",i)\n",
    "    i+=1"
   ]
  },
  {
   "cell_type": "markdown",
   "id": "8b781843",
   "metadata": {},
   "source": [
    "## 5. Write a program to print sum of n numbers."
   ]
  },
  {
   "cell_type": "code",
   "execution_count": 12,
   "id": "87de252e",
   "metadata": {},
   "outputs": [
    {
     "name": "stdout",
     "output_type": "stream",
     "text": [
      "Enter the number : 10\n",
      "========================\n",
      "Sum of the first 10 number is :  55\n"
     ]
    }
   ],
   "source": [
    "n=int(input(\"Enter the number : \"))\n",
    "i=1\n",
    "sum=0\n",
    "while i<=n:\n",
    "    sum=sum+i\n",
    "    i+=1\n",
    "print(\"========================\")\n",
    "print(\"Sum of the first\",n,\"number is : \",sum)    \n"
   ]
  },
  {
   "cell_type": "markdown",
   "id": "0d6cd28e",
   "metadata": {},
   "source": [
    "## 6. Write a program to print table of a number."
   ]
  },
  {
   "cell_type": "code",
   "execution_count": 3,
   "id": "2875bc37",
   "metadata": {},
   "outputs": [
    {
     "name": "stdout",
     "output_type": "stream",
     "text": [
      "Enter the number for table : 5\n",
      "5 *  1  =  5\n",
      "5 *  2  =  10\n",
      "5 *  3  =  15\n",
      "5 *  4  =  20\n",
      "5 *  5  =  25\n",
      "5 *  6  =  30\n",
      "5 *  7  =  35\n",
      "5 *  8  =  40\n",
      "5 *  9  =  45\n",
      "5 *  10  =  50\n"
     ]
    }
   ],
   "source": [
    "n=int(input(\"Enter the number for table : \"))\n",
    "i=1\n",
    "sum=0\n",
    "while i<=10 :\n",
    "    sum=sum+n\n",
    "    print(\"5 * \",i,\" = \",sum)\n",
    "    i+=1"
   ]
  },
  {
   "cell_type": "markdown",
   "id": "b0993d61",
   "metadata": {},
   "source": [
    "## 7. Write a program to calculate the factorial of a number."
   ]
  },
  {
   "cell_type": "code",
   "execution_count": 14,
   "id": "ea9165f8",
   "metadata": {},
   "outputs": [
    {
     "name": "stdout",
     "output_type": "stream",
     "text": [
      "Enter the number for factorial : 5\n",
      "===============================\n",
      "Factorial of 5 number is :  120\n"
     ]
    }
   ],
   "source": [
    "n=int(input(\"Enter the number for factorial : \"))\n",
    "i=1\n",
    "mul=1\n",
    "while i<=n:\n",
    "    mul=mul*i\n",
    "    i+=1\n",
    "print(\"===============================\")\n",
    "print(\"Factorial of\",n,\"number is : \",mul)"
   ]
  },
  {
   "cell_type": "markdown",
   "id": "2845e2cf",
   "metadata": {},
   "source": [
    "## 8. Write a program to print even number between 1 to 100."
   ]
  },
  {
   "cell_type": "code",
   "execution_count": 5,
   "id": "4afeea67",
   "metadata": {},
   "outputs": [
    {
     "name": "stdout",
     "output_type": "stream",
     "text": [
      "Even number is :  2\n",
      "Even number is :  4\n",
      "Even number is :  6\n",
      "Even number is :  8\n",
      "Even number is :  10\n",
      "Even number is :  12\n",
      "Even number is :  14\n",
      "Even number is :  16\n",
      "Even number is :  18\n",
      "Even number is :  20\n",
      "Even number is :  22\n",
      "Even number is :  24\n",
      "Even number is :  26\n",
      "Even number is :  28\n",
      "Even number is :  30\n",
      "Even number is :  32\n",
      "Even number is :  34\n",
      "Even number is :  36\n",
      "Even number is :  38\n",
      "Even number is :  40\n",
      "Even number is :  42\n",
      "Even number is :  44\n",
      "Even number is :  46\n",
      "Even number is :  48\n",
      "Even number is :  50\n",
      "Even number is :  52\n",
      "Even number is :  54\n",
      "Even number is :  56\n",
      "Even number is :  58\n",
      "Even number is :  60\n",
      "Even number is :  62\n",
      "Even number is :  64\n",
      "Even number is :  66\n",
      "Even number is :  68\n",
      "Even number is :  70\n",
      "Even number is :  72\n",
      "Even number is :  74\n",
      "Even number is :  76\n",
      "Even number is :  78\n",
      "Even number is :  80\n",
      "Even number is :  82\n",
      "Even number is :  84\n",
      "Even number is :  86\n",
      "Even number is :  88\n",
      "Even number is :  90\n",
      "Even number is :  92\n",
      "Even number is :  94\n",
      "Even number is :  96\n",
      "Even number is :  98\n",
      "Even number is :  100\n"
     ]
    }
   ],
   "source": [
    "i=1\n",
    "while i<=100:\n",
    "    if i%2==0:\n",
    "        print(\"Even number is : \",i)\n",
    "    i=i+1    "
   ]
  },
  {
   "cell_type": "markdown",
   "id": "1f3bc4dc",
   "metadata": {},
   "source": [
    "## 9. Write a program to print odd number between 1 to 100."
   ]
  },
  {
   "cell_type": "code",
   "execution_count": 6,
   "id": "ee3b701b",
   "metadata": {},
   "outputs": [
    {
     "name": "stdout",
     "output_type": "stream",
     "text": [
      "Odd number is :  1\n",
      "Odd number is :  3\n",
      "Odd number is :  5\n",
      "Odd number is :  7\n",
      "Odd number is :  9\n",
      "Odd number is :  11\n",
      "Odd number is :  13\n",
      "Odd number is :  15\n",
      "Odd number is :  17\n",
      "Odd number is :  19\n",
      "Odd number is :  21\n",
      "Odd number is :  23\n",
      "Odd number is :  25\n",
      "Odd number is :  27\n",
      "Odd number is :  29\n",
      "Odd number is :  31\n",
      "Odd number is :  33\n",
      "Odd number is :  35\n",
      "Odd number is :  37\n",
      "Odd number is :  39\n",
      "Odd number is :  41\n",
      "Odd number is :  43\n",
      "Odd number is :  45\n",
      "Odd number is :  47\n",
      "Odd number is :  49\n",
      "Odd number is :  51\n",
      "Odd number is :  53\n",
      "Odd number is :  55\n",
      "Odd number is :  57\n",
      "Odd number is :  59\n",
      "Odd number is :  61\n",
      "Odd number is :  63\n",
      "Odd number is :  65\n",
      "Odd number is :  67\n",
      "Odd number is :  69\n",
      "Odd number is :  71\n",
      "Odd number is :  73\n",
      "Odd number is :  75\n",
      "Odd number is :  77\n",
      "Odd number is :  79\n",
      "Odd number is :  81\n",
      "Odd number is :  83\n",
      "Odd number is :  85\n",
      "Odd number is :  87\n",
      "Odd number is :  89\n",
      "Odd number is :  91\n",
      "Odd number is :  93\n",
      "Odd number is :  95\n",
      "Odd number is :  97\n",
      "Odd number is :  99\n"
     ]
    }
   ],
   "source": [
    "i=1\n",
    "while i<=100:\n",
    "    if i%2!=0:\n",
    "        print(\"Odd number is : \",i)\n",
    "    i+=1    "
   ]
  },
  {
   "cell_type": "markdown",
   "id": "4fb6fcc9",
   "metadata": {},
   "source": [
    "## 10. Write a program to check whether a given  number is palindrome or not."
   ]
  },
  {
   "cell_type": "code",
   "execution_count": 10,
   "id": "337e5619",
   "metadata": {},
   "outputs": [
    {
     "name": "stdout",
     "output_type": "stream",
     "text": [
      "Enter the number : 12321\n",
      "=========================\n",
      "The number is palindrome!\n"
     ]
    }
   ],
   "source": [
    "num=int(input(\"Enter the number : \"))\n",
    "tem=num\n",
    "rev=0\n",
    "while num>0:\n",
    "    rem=num%10\n",
    "    rev=rev*10+rem\n",
    "    num=num//10\n",
    "if tem==rev:\n",
    "    print(\"=========================\")\n",
    "    print(\"The number is palindrome!\")\n",
    "else:\n",
    "    print(\"===================\")\n",
    "    print(\"Not a palindrome!\")    "
   ]
  },
  {
   "cell_type": "markdown",
   "id": "f1ca8d0d",
   "metadata": {},
   "source": [
    "## 11. Write a program to find factor of a number."
   ]
  },
  {
   "cell_type": "code",
   "execution_count": 14,
   "id": "4b21a05a",
   "metadata": {},
   "outputs": [
    {
     "name": "stdout",
     "output_type": "stream",
     "text": [
      "Enter the number : 24\n",
      "============================\n",
      "============================\n",
      "The Factor of number is :  1\n",
      "The Factor of number is :  2\n",
      "The Factor of number is :  3\n",
      "The Factor of number is :  4\n",
      "The Factor of number is :  6\n",
      "The Factor of number is :  8\n",
      "The Factor of number is :  12\n",
      "The Factor of number is :  24\n"
     ]
    }
   ],
   "source": [
    "num=int(input(\"Enter the number : \"))\n",
    "print(\"============================\")\n",
    "print(\"============================\")\n",
    "i=1\n",
    "while i<=num:\n",
    "    if num%i==0:\n",
    "        print(\"The Factor of number is : \",i)\n",
    "    i+=1    "
   ]
  },
  {
   "cell_type": "markdown",
   "id": "b317754c",
   "metadata": {},
   "source": [
    "## 12. Write a program to print the reverse of a number."
   ]
  },
  {
   "cell_type": "code",
   "execution_count": 7,
   "id": "c34d0d08",
   "metadata": {},
   "outputs": [
    {
     "name": "stdout",
     "output_type": "stream",
     "text": [
      "The reverse of a number is :  46458465\n"
     ]
    }
   ],
   "source": [
    "num=56485464\n",
    "rev=0\n",
    "while num>0:\n",
    "    rem=num%10\n",
    "    rev=rev*10+rem\n",
    "    num=num//10\n",
    "print(\"The reverse of a number is : \",rev)    "
   ]
  },
  {
   "cell_type": "markdown",
   "id": "a39eeb1a",
   "metadata": {},
   "source": [
    "## 13. Write a program to print the sum of reverse of a number."
   ]
  },
  {
   "cell_type": "code",
   "execution_count": 8,
   "id": "739813be",
   "metadata": {},
   "outputs": [
    {
     "name": "stdout",
     "output_type": "stream",
     "text": [
      "The sum of reverse of a number is :  21\n"
     ]
    }
   ],
   "source": [
    "num=2568\n",
    "rev=0\n",
    "while num>0:\n",
    "    rem=num%10\n",
    "    rev=rev+rem\n",
    "    num=num//10\n",
    "print(\"The sum of reverse of a number is : \",rev)      "
   ]
  },
  {
   "cell_type": "markdown",
   "id": "59d9860d",
   "metadata": {},
   "source": [
    "## 14. Write a program to check whether a given number is prime or not."
   ]
  },
  {
   "cell_type": "code",
   "execution_count": 4,
   "id": "8ef0cb99",
   "metadata": {},
   "outputs": [
    {
     "name": "stdout",
     "output_type": "stream",
     "text": [
      "Enter the number : 7\n",
      "=======================\n",
      "=======================\n",
      "Given number 7 is prime.\n"
     ]
    }
   ],
   "source": [
    "num=int(input(\"Enter the number : \"))\n",
    "print(\"=======================\")\n",
    "print(\"=======================\")\n",
    "i=2\n",
    "while i<num:\n",
    "    if num%i==0:\n",
    "        print(\"Given number\",num,\"is not prime.\")\n",
    "        break\n",
    "    \n",
    "    else:\n",
    "        print(\"Given number\",num,\"is prime.\")\n",
    "    i+=num               \n",
    "\n",
    "    "
   ]
  },
  {
   "cell_type": "markdown",
   "id": "eea7b778",
   "metadata": {},
   "source": [
    "## 15. Write a program to print  prime between 1 to 100."
   ]
  },
  {
   "cell_type": "code",
   "execution_count": 5,
   "id": "c50d6941",
   "metadata": {},
   "outputs": [
    {
     "name": "stdout",
     "output_type": "stream",
     "text": [
      "prime number between 1 to 100 is :  2\n",
      "prime number between 1 to 100 is :  3\n",
      "prime number between 1 to 100 is :  5\n",
      "prime number between 1 to 100 is :  7\n",
      "prime number between 1 to 100 is :  11\n",
      "prime number between 1 to 100 is :  13\n",
      "prime number between 1 to 100 is :  17\n",
      "prime number between 1 to 100 is :  19\n",
      "prime number between 1 to 100 is :  23\n",
      "prime number between 1 to 100 is :  29\n",
      "prime number between 1 to 100 is :  31\n",
      "prime number between 1 to 100 is :  37\n",
      "prime number between 1 to 100 is :  41\n",
      "prime number between 1 to 100 is :  43\n",
      "prime number between 1 to 100 is :  47\n",
      "prime number between 1 to 100 is :  53\n",
      "prime number between 1 to 100 is :  59\n",
      "prime number between 1 to 100 is :  61\n",
      "prime number between 1 to 100 is :  67\n",
      "prime number between 1 to 100 is :  71\n",
      "prime number between 1 to 100 is :  73\n",
      "prime number between 1 to 100 is :  79\n",
      "prime number between 1 to 100 is :  83\n",
      "prime number between 1 to 100 is :  89\n",
      "prime number between 1 to 100 is :  97\n"
     ]
    }
   ],
   "source": [
    "for i in range(1,101):\n",
    "    if i>1:\n",
    "        for j in range(2,i):\n",
    "            if i%j==0:\n",
    "                break\n",
    "        else:\n",
    "            print(\"prime number between 1 to 100 is : \",i)"
   ]
  },
  {
   "cell_type": "markdown",
   "id": "9958e3da",
   "metadata": {},
   "source": [
    "## 16. Write a program to print the reverse order entered by the user."
   ]
  },
  {
   "cell_type": "code",
   "execution_count": 9,
   "id": "5f1b8f3a",
   "metadata": {},
   "outputs": [
    {
     "name": "stdout",
     "output_type": "stream",
     "text": [
      "Enter the number : 564651646\n",
      "=======================\n",
      "=======================\n",
      "The reverse of a number is :  646156465\n"
     ]
    }
   ],
   "source": [
    "num=int(input(\"Enter the number : \"))\n",
    "print(\"=======================\")\n",
    "print(\"=======================\")\n",
    "rev=0\n",
    "while num>0:\n",
    "    rem=num%10\n",
    "    rev=rev*10+rem\n",
    "    num=num//10\n",
    "print(\"The reverse of a number is : \",rev)  "
   ]
  },
  {
   "cell_type": "markdown",
   "id": "cb16449f",
   "metadata": {},
   "source": [
    "## 17. Write a program to print the cube of all numbers from 1 to a given nuumber."
   ]
  },
  {
   "cell_type": "code",
   "execution_count": 13,
   "id": "15dead54",
   "metadata": {},
   "outputs": [
    {
     "name": "stdout",
     "output_type": "stream",
     "text": [
      "Enter the number : 6\n",
      "Cube of number is:  1  *  1  *  1  =  1\n",
      "Cube of number is:  2  *  2  *  2  =  8\n",
      "Cube of number is:  3  *  3  *  3  =  27\n",
      "Cube of number is:  4  *  4  *  4  =  64\n",
      "Cube of number is:  5  *  5  *  5  =  125\n",
      "Cube of number is:  6  *  6  *  6  =  216\n"
     ]
    }
   ],
   "source": [
    "num=int(input(\"Enter the number : \"))\n",
    "for i in range(1,num+1):\n",
    "    cube=i**3\n",
    "    print(\"Cube of number is: \",i,\" * \",i,\" * \",i,\" = \",cube)\n",
    "    "
   ]
  },
  {
   "cell_type": "markdown",
   "id": "31b6d122",
   "metadata": {},
   "source": [
    "## 18. Write a program to count the total number of digit in a number."
   ]
  },
  {
   "cell_type": "code",
   "execution_count": 2,
   "id": "e2632a56",
   "metadata": {},
   "outputs": [
    {
     "name": "stdout",
     "output_type": "stream",
     "text": [
      "Enter the number : 6549848\n",
      "Total number of digit in a number is =  7\n"
     ]
    }
   ],
   "source": [
    "num=int(input(\"Enter the number : \"))\n",
    "count=0\n",
    "while num>0:\n",
    "    num=num//10\n",
    "    count+=1\n",
    "print(\"Total number of digit in a number is = \",count)    "
   ]
  },
  {
   "cell_type": "markdown",
   "id": "46bb3779",
   "metadata": {},
   "source": [
    "## 19. Write a program to print fiboacci series."
   ]
  },
  {
   "cell_type": "code",
   "execution_count": 25,
   "id": "492217e2",
   "metadata": {},
   "outputs": [
    {
     "name": "stdout",
     "output_type": "stream",
     "text": [
      "Enter the number : 9\n",
      "fibonacci series number is =  0\n",
      "fibonacci series number is =  1\n",
      "fibonacci series number is =  1\n",
      "fibonacci series number is =  2\n",
      "fibonacci series number is =  3\n",
      "fibonacci series number is =  5\n",
      "fibonacci series number is =  8\n",
      "fibonacci series number is =  13\n",
      "fibonacci series number is =  21\n",
      "fibonacci series number is =  34\n"
     ]
    }
   ],
   "source": [
    "num=int(input(\"Enter the number : \"))\n",
    "f=0\n",
    "s=1\n",
    "print(\"fibonacci series number is = \",f)\n",
    "print(\"fibonacci series number is = \",s)\n",
    "for i in range(2,num+1):\n",
    "    fib=f+s\n",
    "    print(\"fibonacci series number is = \",fib)\n",
    "    f=s\n",
    "    s=fib\n",
    "    "
   ]
  },
  {
   "cell_type": "markdown",
   "id": "d8ccc48e",
   "metadata": {},
   "source": [
    "## 20. Write a program to check whether a given number is amstrong number or not."
   ]
  },
  {
   "cell_type": "code",
   "execution_count": 33,
   "id": "a749a37a",
   "metadata": {},
   "outputs": [
    {
     "name": "stdout",
     "output_type": "stream",
     "text": [
      "Enter the number : 371\n",
      "371 is an Armstrong umber\n"
     ]
    }
   ],
   "source": [
    "num=int(input(\"Enter the number : \"))\n",
    "order=len(str(num))\n",
    "temp=num\n",
    "sum=0\n",
    "while temp>0:\n",
    "    mod=temp%10\n",
    "    sum+=mod ** order\n",
    "    temp=temp//10\n",
    "if(sum==num):\n",
    "    print(num,\"is an Armstrong umber\")\n",
    "else:\n",
    "    print(num,\"is not Armstrong umber\")"
   ]
  },
  {
   "cell_type": "markdown",
   "id": "4db1dae4",
   "metadata": {},
   "source": [
    "## 21. Write a program to check whether a given number is strong number or not."
   ]
  },
  {
   "cell_type": "code",
   "execution_count": 42,
   "id": "37b1b2f3",
   "metadata": {
    "scrolled": true
   },
   "outputs": [
    {
     "name": "stdout",
     "output_type": "stream",
     "text": [
      "Enter the number: 147\n",
      " Factorial of  7  =  5040\n",
      " Factorial of  4  =  24\n",
      " Factorial of  1  =  1\n",
      " Sum of Factorials of a Given Number 147  =  5065\n",
      "147 is not a Strong Number\n"
     ]
    }
   ],
   "source": [
    "Num=int(input(\"Enter the number: \"))\n",
    "Sum=0\n",
    "Temp=Num\n",
    " \n",
    "while Temp>0:\n",
    "    Factorial=1\n",
    "    i=1\n",
    "    Reminder=Temp % 10\n",
    " \n",
    "    while i<=Reminder:\n",
    "        Factorial=Factorial*i\n",
    "        i+=1\n",
    " \n",
    "    print(\" Factorial of \",Reminder,\" = \",Factorial)\n",
    "    Sum =Sum+Factorial\n",
    "    Temp = Temp//10\n",
    "print(\" Sum of Factorials of a Given Number\",Num,\" = \",Sum)\n",
    "     \n",
    "if Sum==Num:\n",
    "    print(Num,\"is a Strong Number\")\n",
    "else:\n",
    "    print(Num,\"is not a Strong Number\")"
   ]
  },
  {
   "cell_type": "markdown",
   "id": "e50227f4",
   "metadata": {},
   "source": [
    "## 22. Write a program to check whether a given number is Perfect number or not."
   ]
  },
  {
   "cell_type": "code",
   "execution_count": 57,
   "id": "8373c871",
   "metadata": {},
   "outputs": [
    {
     "name": "stdout",
     "output_type": "stream",
     "text": [
      "Enter the number: 28\n",
      "The number is a Perfect number!\n"
     ]
    }
   ],
   "source": [
    "n=int(input(\"Enter the number: \"))\n",
    "sum1=0\n",
    "for i in range(1, n):\n",
    "    if(n % i == 0):\n",
    "        sum1 = sum1 + i\n",
    "if sum1 == n:\n",
    "    print(\"The number is a Perfect number!\")\n",
    "else:\n",
    "    print(\"The number is not a Perfect number!\")"
   ]
  },
  {
   "cell_type": "code",
   "execution_count": null,
   "id": "e8dcb43f",
   "metadata": {},
   "outputs": [],
   "source": []
  },
  {
   "cell_type": "code",
   "execution_count": null,
   "id": "6bb4fa39",
   "metadata": {},
   "outputs": [],
   "source": []
  }
 ],
 "metadata": {
  "kernelspec": {
   "display_name": "Python 3 (ipykernel)",
   "language": "python",
   "name": "python3"
  },
  "language_info": {
   "codemirror_mode": {
    "name": "ipython",
    "version": 3
   },
   "file_extension": ".py",
   "mimetype": "text/x-python",
   "name": "python",
   "nbconvert_exporter": "python",
   "pygments_lexer": "ipython3",
   "version": "3.9.12"
  }
 },
 "nbformat": 4,
 "nbformat_minor": 5
}
